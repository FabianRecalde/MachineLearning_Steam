{
 "cells": [
  {
   "cell_type": "code",
   "execution_count": 22,
   "metadata": {},
   "outputs": [
    {
     "name": "stdout",
     "output_type": "stream",
     "text": [
      "    id genres    tags\n",
      "0  123   None  [a, c]\n",
      "    id  genres    tags\n",
      "0  123  [a, c]  [a, c]\n"
     ]
    }
   ],
   "source": [
    "import pandas as pd\n",
    "\n",
    "# Crear la lista de strings\n",
    "strings_list = ['a', 'b', 'c', 'd']\n",
    "\n",
    "# Crear el DataFrame\n",
    "data = {'id': [123],\n",
    "        'genres': [None],\n",
    "        'tags': [['a', 'c']]}\n",
    "\n",
    "df = pd.DataFrame(data)\n",
    "\n",
    "print(df)\n",
    "\n",
    "# Comparar las listas en la columna 'tags' con 'strings_list' y crear una nueva lista con los elementos coincidentes\n",
    "df['genres'] = df['tags'].apply(lambda x: [tag for tag in x if tag in strings_list])\n",
    "\n",
    "# Mostrar el DataFrame actualizado\n",
    "print(df)"
   ]
  },
  {
   "cell_type": "code",
   "execution_count": 23,
   "metadata": {},
   "outputs": [
    {
     "name": "stdout",
     "output_type": "stream",
     "text": [
      "    id genres    tags\n",
      "0  123   None  [a, c]\n",
      "1  456   None  [b, d]\n",
      "2  789    [b]     [x]\n",
      "    id  genres    tags\n",
      "0  123  [a, c]  [a, c]\n",
      "1  456  [b, d]  [b, d]\n",
      "2  789      []     [x]\n"
     ]
    }
   ],
   "source": [
    "# Crear la lista de strings\n",
    "strings_list = ['a', 'b', 'c', 'd']\n",
    "\n",
    "# Crear el DataFrame\n",
    "data = {'id': [123, 456, 789],\n",
    "        'genres': [None, None, ['b']],\n",
    "        'tags': [['a', 'c'], ['b', 'd'], ['x']]}\n",
    "\n",
    "df = pd.DataFrame(data)\n",
    "\n",
    "print(df)\n",
    "\n",
    "# Aplicar la función solo si el valor en la columna 'genres' es nulo\n",
    "if pd.isnull(df['genres'].iloc[0]):\n",
    "        df['genres'] = df['tags'].apply(lambda x: [tag for tag in x if tag in strings_list])\n",
    "\n",
    "# Mostrar el DataFrame actualizado\n",
    "print(df)\n"
   ]
  },
  {
   "cell_type": "code",
   "execution_count": 28,
   "metadata": {},
   "outputs": [
    {
     "name": "stdout",
     "output_type": "stream",
     "text": [
      "    id genres    tags\n",
      "0  123   None  [a, c]\n",
      "1  456   None  [b, d]\n",
      "2  789    [b]     [x]\n",
      "3  101   None     [x]\n",
      "4  112   None    None\n",
      "    id  genres    tags\n",
      "0  123  [a, c]  [a, c]\n",
      "1  456  [b, d]  [b, d]\n",
      "2  789     [b]     [x]\n",
      "3  101      []     [x]\n",
      "4  112    None    None\n"
     ]
    }
   ],
   "source": [
    "# Crear la lista de strings\n",
    "strings_list = ['a', 'b', 'c', 'd']\n",
    "\n",
    "# Crear el DataFrame\n",
    "data = {'id': [123, 456, 789, 101, 112],\n",
    "        'genres': [None, None, ['b'], None, None],\n",
    "        'tags': [['a', 'c'], ['b', 'd'], ['x'], ['x'], None]}\n",
    "\n",
    "df = pd.DataFrame(data)\n",
    "\n",
    "print(df)\n",
    "\n",
    "# Aplicar la función solo si el valor en la columna 'genres' es nulo para cada fila\n",
    "for index, row in df.iterrows():\n",
    "    if pd.isnull(row['genres']) and row['tags'] is not None:\n",
    "        df.at[index, 'genres'] = [tag for tag in row['tags'] if tag in strings_list]\n",
    "\n",
    "# Mostrar el DataFrame actualizado\n",
    "print(df)\n"
   ]
  },
  {
   "cell_type": "code",
   "execution_count": 16,
   "metadata": {},
   "outputs": [
    {
     "name": "stdout",
     "output_type": "stream",
     "text": [
      "    id genres    tags\n",
      "0  123   None  [a, c]\n",
      "1  456   None  [b, d]\n",
      "2  789    [b]     [x]\n",
      "3  101   None     [x]\n",
      "    id  genres    tags\n",
      "0  123  [a, c]  [a, c]\n",
      "1  456  [b, d]  [b, d]\n",
      "2  789     [b]     [x]\n",
      "3  101    None     [x]\n"
     ]
    }
   ],
   "source": [
    "# Crear la lista de strings\n",
    "strings_list = ['a', 'b', 'c', 'd']\n",
    "\n",
    "# Crear el DataFrame\n",
    "data = {'id': [123, 456, 789, 101],\n",
    "        'genres': [None, None, ['b'], None],\n",
    "        'tags': [['a', 'c'], ['b', 'd'], ['x'], ['x']]}\n",
    "\n",
    "df = pd.DataFrame(data)\n",
    "\n",
    "print(df)\n",
    "\n",
    "# Aplicar la función solo si el valor en la columna 'genres' es nulo para cada fila\n",
    "for index, row in df.iterrows():\n",
    "    if pd.isnull(row['genres']):\n",
    "        matched_genres = [tag for tag in row['tags'] if tag in strings_list]\n",
    "        if matched_genres:\n",
    "            df.at[index, 'genres'] = matched_genres\n",
    "        else:\n",
    "            df.at[index, 'genres'] = None  # No hay coincidencias, asignar None en lugar de una lista vacía\n",
    "\n",
    "# Mostrar el DataFrame actualizado\n",
    "print(df)\n"
   ]
  },
  {
   "cell_type": "code",
   "execution_count": 29,
   "metadata": {},
   "outputs": [
    {
     "name": "stdout",
     "output_type": "stream",
     "text": [
      "    id genres    tags\n",
      "0  123   None  [a, c]\n",
      "1  456   None  [b, d]\n",
      "2  789    [b]     [x]\n",
      "3  101   None     [x]\n",
      "4  112   None    None\n",
      "    id  genres    tags\n",
      "0  123  [a, c]  [a, c]\n",
      "1  456  [b, d]  [b, d]\n",
      "2  789     [b]     [x]\n",
      "3  101      []     [x]\n",
      "4  112    None    None\n"
     ]
    }
   ],
   "source": [
    "# Crear la lista de strings\n",
    "strings_list = ['a', 'b', 'c', 'd']\n",
    "\n",
    "# Crear el DataFrame\n",
    "data = {'id': [123, 456, 789, 101, 112],\n",
    "        'genres': [None, None, ['b'], None, None],\n",
    "        'tags': [['a', 'c'], ['b', 'd'], ['x'], ['x'], None]}\n",
    "\n",
    "df = pd.DataFrame(data)\n",
    "\n",
    "print(df)\n",
    "\n",
    "# Aplicar la función solo si el valor en la columna 'genres' no es una lista y el valor en la columna 'tags' es una lista\n",
    "for index, row in df.iterrows():\n",
    "    if not isinstance(row['genres'], list) and isinstance(row['tags'], list):\n",
    "        df.at[index, 'genres'] = [tag for tag in row['tags'] if tag in strings_list]\n",
    "\n",
    "# Mostrar el DataFrame actualizado\n",
    "print(df)\n"
   ]
  },
  {
   "cell_type": "code",
   "execution_count": 30,
   "metadata": {},
   "outputs": [
    {
     "name": "stdout",
     "output_type": "stream",
     "text": [
      "    id genres    tags\n",
      "0  123   None  [a, c]\n",
      "1  456   None  [b, d]\n",
      "2  789    [b]     [x]\n",
      "3  101   None     [x]\n",
      "4  112   None    None\n",
      "    id  genres    tags\n",
      "0  123  [a, c]  [a, c]\n",
      "1  456  [b, d]  [b, d]\n",
      "2  789     [b]     [x]\n",
      "3  101      []     [x]\n",
      "4  112    None    None\n"
     ]
    }
   ],
   "source": [
    "# Crear la lista de strings\n",
    "strings_list = ['a', 'b', 'c', 'd']\n",
    "\n",
    "# Crear el DataFrame\n",
    "data = {'id': [123, 456, 789, 101, 112],\n",
    "        'genres': [None, None, ['b'], None, None],\n",
    "        'tags': [['a', 'c'], ['b', 'd'], ['x'], ['x'], None]}\n",
    "\n",
    "df = pd.DataFrame(data)\n",
    "\n",
    "print(df)\n",
    "\n",
    "# Aplicar la función solo si el valor en la columna 'genres' no es una lista y el valor en la columna 'tags' es una lista\n",
    "def update_genres(row):\n",
    "    if not isinstance(row['genres'], list) and isinstance(row['tags'], list):\n",
    "        return [tag for tag in row['tags'] if tag in strings_list]\n",
    "    else:\n",
    "        return row['genres']\n",
    "\n",
    "df['genres'] = df.apply(update_genres, axis=1)\n",
    "\n",
    "# Mostrar el DataFrame actualizado\n",
    "print(df)\n"
   ]
  },
  {
   "cell_type": "code",
   "execution_count": 31,
   "metadata": {},
   "outputs": [
    {
     "name": "stdout",
     "output_type": "stream",
     "text": [
      "    id genres    tags\n",
      "0  123   None  [a, c]\n",
      "1  456   None  [b, d]\n",
      "2  789    [b]     [x]\n",
      "3  101   None     [x]\n",
      "4  112   None    None\n",
      "    id  genres    tags\n",
      "0  123  [a, c]  [a, c]\n",
      "1  456  [b, d]  [b, d]\n",
      "2  789     [b]     [x]\n",
      "3  101      []     [x]\n",
      "4  112    None    None\n"
     ]
    }
   ],
   "source": [
    "import pandas as pd\n",
    "\n",
    "# Crear la lista de strings\n",
    "strings_list = ['a', 'b', 'c', 'd']\n",
    "\n",
    "# Crear el DataFrame\n",
    "data = {'id': [123, 456, 789, 101, 112],\n",
    "        'genres': [None, None, ['b'], None, None],\n",
    "        'tags': [['a', 'c'], ['b', 'd'], ['x'], ['x'], None]}\n",
    "\n",
    "df = pd.DataFrame(data)\n",
    "\n",
    "print(df)\n",
    "\n",
    "# Aplicar la función solo si el valor en la columna 'genres' no es una lista y el valor en la columna 'tags' es una lista\n",
    "def update_genres(row):\n",
    "    if (not isinstance(row['genres'], list)) and (isinstance(row['tags'], list)):\n",
    "        return [tag for tag in row['tags'] if tag in strings_list]\n",
    "    else:\n",
    "        return row['genres']\n",
    "\n",
    "df['genres'] = df.apply(update_genres, axis=1)\n",
    "\n",
    "# Mostrar el DataFrame actualizado\n",
    "print(df)\n"
   ]
  },
  {
   "cell_type": "code",
   "execution_count": 32,
   "metadata": {},
   "outputs": [
    {
     "name": "stdout",
     "output_type": "stream",
     "text": [
      "    id genres    tags\n",
      "0  123   None  [a, c]\n",
      "1  456   None  [b, d]\n",
      "2  789    [b]     [x]\n",
      "3  101   None     [x]\n",
      "4  112   None    None\n",
      "    id  genres    tags\n",
      "0  123  [a, c]  [a, c]\n",
      "1  456  [b, d]  [b, d]\n",
      "2  789     [b]     [x]\n",
      "3  101      []     [x]\n",
      "4  112    None    None\n"
     ]
    }
   ],
   "source": [
    "import pandas as pd\n",
    "import numpy as np\n",
    "\n",
    "# Crear la lista de strings\n",
    "strings_list = ['a', 'b', 'c', 'd']\n",
    "\n",
    "# Crear el DataFrame\n",
    "data = {'id': [123, 456, 789, 101, 112],\n",
    "        'genres': [None, None, ['b'], None, None],\n",
    "        'tags': [['a', 'c'], ['b', 'd'], ['x'], ['x'], None]}\n",
    "\n",
    "df = pd.DataFrame(data)\n",
    "\n",
    "print(df)\n",
    "\n",
    "# Verificar si el valor en la columna 'genres' no es una lista y el valor en la columna 'tags' es una lista\n",
    "mask = (~df['genres'].apply(isinstance, args=(list,))) & (df['tags'].apply(isinstance, args=(list,)))\n",
    "\n",
    "# Aplicar la función para actualizar 'genres' usando la máscara\n",
    "df.loc[mask, 'genres'] = df.loc[mask, 'tags'].apply(lambda x: [tag for tag in x if tag in strings_list])\n",
    "\n",
    "# Mostrar el DataFrame actualizado\n",
    "print(df)\n"
   ]
  },
  {
   "cell_type": "code",
   "execution_count": 33,
   "metadata": {},
   "outputs": [
    {
     "name": "stdout",
     "output_type": "stream",
     "text": [
      "    id genres    tags\n",
      "0  123   None  [a, c]\n",
      "1  456   None  [b, d]\n",
      "2  789    [b]     [x]\n",
      "3  101   None     [x]\n",
      "4  112   None    None\n",
      "    id  genres    tags\n",
      "0  123  [a, c]  [a, c]\n",
      "1  456  [b, d]  [b, d]\n",
      "2  789     [b]     [x]\n",
      "3  101      []     [x]\n",
      "4  112    None    None\n"
     ]
    }
   ],
   "source": [
    "import pandas as pd\n",
    "\n",
    "# Crear la lista de strings\n",
    "strings_list = ['a', 'b', 'c', 'd']\n",
    "\n",
    "# Crear el DataFrame\n",
    "data = {'id': [123, 456, 789, 101, 112],\n",
    "        'genres': [None, None, ['b'], None, None],\n",
    "        'tags': [['a', 'c'], ['b', 'd'], ['x'], ['x'], None]}\n",
    "\n",
    "df = pd.DataFrame(data)\n",
    "\n",
    "print(df)\n",
    "\n",
    "# Dividir el DataFrame en lotes más pequeños\n",
    "batch_size = 1000\n",
    "num_batches = len(df) // batch_size + 1\n",
    "dfs = []\n",
    "\n",
    "for i in range(num_batches):\n",
    "    start = i * batch_size\n",
    "    end = min((i + 1) * batch_size, len(df))\n",
    "    batch_df = df.iloc[start:end]\n",
    "    \n",
    "    # Verificar si el valor en la columna 'genres' no es una lista y el valor en la columna 'tags' es una lista\n",
    "    mask = (~batch_df['genres'].apply(isinstance, args=(list,))) & (batch_df['tags'].apply(isinstance, args=(list,)))\n",
    "    \n",
    "    # Aplicar la función para actualizar 'genres' usando la máscara\n",
    "    batch_df.loc[mask, 'genres'] = batch_df.loc[mask, 'tags'].apply(lambda x: [tag for tag in x if tag in strings_list])\n",
    "    \n",
    "    dfs.append(batch_df)\n",
    "\n",
    "# Concatenar los DataFrames de los lotes procesados\n",
    "df_processed = pd.concat(dfs)\n",
    "\n",
    "# Mostrar el DataFrame actualizado\n",
    "print(df_processed)\n"
   ]
  },
  {
   "cell_type": "code",
   "execution_count": 34,
   "metadata": {},
   "outputs": [
    {
     "name": "stdout",
     "output_type": "stream",
     "text": [
      "    id genres    tags\n",
      "0  123   None  [a, c]\n",
      "1  456   None  [b, d]\n",
      "2  789    [b]     [x]\n",
      "3  101   None     [x]\n",
      "4  112   None    None\n",
      "    id genres    tags\n",
      "0  123   None  [a, c]\n",
      "1  456   None  [b, d]\n",
      "2  789    [b]     [x]\n",
      "3  101   None     [x]\n",
      "4  112   None    None\n"
     ]
    }
   ],
   "source": [
    "import pandas as pd\n",
    "import numpy as np\n",
    "\n",
    "# Crear la lista de strings\n",
    "strings_list = ['a', 'b', 'c', 'd']\n",
    "\n",
    "# Crear el DataFrame\n",
    "data = {'id': [123, 456, 789, 101, 112],\n",
    "        'genres': [None, None, ['b'], None, None],\n",
    "        'tags': [['a', 'c'], ['b', 'd'], ['x'], ['x'], None]}\n",
    "\n",
    "df = pd.DataFrame(data)\n",
    "\n",
    "print(df)\n",
    "\n",
    "# Aplicar la función solo si el valor en la columna 'genres' no es un array de numpy y el valor en la columna 'tags' es un array de numpy\n",
    "def update_genres(row):\n",
    "    if (not isinstance(row['genres'], np.ndarray)) and (isinstance(row['tags'], np.ndarray)):\n",
    "        return [tag for tag in row['tags'] if tag in strings_list]\n",
    "    else:\n",
    "        return row['genres']\n",
    "\n",
    "df['genres'] = df.apply(update_genres, axis=1)\n",
    "\n",
    "# Mostrar el DataFrame actualizado\n",
    "print(df)\n"
   ]
  },
  {
   "cell_type": "code",
   "execution_count": 47,
   "metadata": {},
   "outputs": [
    {
     "data": {
      "text/html": [
       "<div>\n",
       "<style scoped>\n",
       "    .dataframe tbody tr th:only-of-type {\n",
       "        vertical-align: middle;\n",
       "    }\n",
       "\n",
       "    .dataframe tbody tr th {\n",
       "        vertical-align: top;\n",
       "    }\n",
       "\n",
       "    .dataframe thead th {\n",
       "        text-align: right;\n",
       "    }\n",
       "</style>\n",
       "<table border=\"1\" class=\"dataframe\">\n",
       "  <thead>\n",
       "    <tr style=\"text-align: right;\">\n",
       "      <th></th>\n",
       "      <th>genres</th>\n",
       "      <th>specs</th>\n",
       "    </tr>\n",
       "  </thead>\n",
       "  <tbody>\n",
       "    <tr>\n",
       "      <th>0</th>\n",
       "      <td>[a, b]</td>\n",
       "      <td>[a, b]</td>\n",
       "    </tr>\n",
       "    <tr>\n",
       "      <th>1</th>\n",
       "      <td>[a, b]</td>\n",
       "      <td>None</td>\n",
       "    </tr>\n",
       "    <tr>\n",
       "      <th>2</th>\n",
       "      <td>[]</td>\n",
       "      <td>[a, b]</td>\n",
       "    </tr>\n",
       "  </tbody>\n",
       "</table>\n",
       "</div>"
      ],
      "text/plain": [
       "   genres   specs\n",
       "0  [a, b]  [a, b]\n",
       "1  [a, b]    None\n",
       "2      []  [a, b]"
      ]
     },
     "execution_count": 47,
     "metadata": {},
     "output_type": "execute_result"
    }
   ],
   "source": [
    "# Crear el DataFrame\n",
    "data = {'genres': [np.array(['a', 'b']), np.array(['a', 'b']), np.array([])],\n",
    "        'specs': [np.array(['a', 'b']), None, np.array(['a', 'b'])]}\n",
    "\n",
    "steam_games = pd.DataFrame(data)\n",
    "\n",
    "steam_games\n"
   ]
  },
  {
   "cell_type": "code",
   "execution_count": 49,
   "metadata": {},
   "outputs": [
    {
     "data": {
      "text/plain": [
       "[]"
      ]
     },
     "execution_count": 49,
     "metadata": {},
     "output_type": "execute_result"
    }
   ],
   "source": [
    "unique_genres = ['a']\n",
    "\n",
    "# Crear una lista con elementos coincidentes en la columna 'specs' y 'unique_genres'\n",
    "matched_genres1 = [tag for tags in steam_games['specs'] if isinstance(tags, list) for tag in tags if tag in unique_genres]\n",
    "\n",
    "matched_genres1"
   ]
  },
  {
   "cell_type": "code",
   "execution_count": 50,
   "metadata": {},
   "outputs": [
    {
     "name": "stdout",
     "output_type": "stream",
     "text": [
      "['a', 'a']\n"
     ]
    }
   ],
   "source": [
    "import pandas as pd\n",
    "import numpy as np\n",
    "\n",
    "# Crear el DataFrame\n",
    "data = {'genres': [np.array(['a', 'b']), np.array(['a', 'b']), np.array([])],\n",
    "        'specs': [np.array(['a', 'b']), None, np.array(['a', 'b'])]}\n",
    "\n",
    "steam_games = pd.DataFrame(data)\n",
    "\n",
    "# Lista de géneros únicos\n",
    "unique_genres = ['a']\n",
    "\n",
    "# Crear una lista con elementos coincidentes en la columna 'specs' y 'unique_genres'\n",
    "matched_genres1 = [tag for tags in steam_games['specs'] if isinstance(tags, np.ndarray) for tag in tags if tag in unique_genres]\n",
    "\n",
    "print(matched_genres1)\n"
   ]
  },
  {
   "cell_type": "code",
   "execution_count": 51,
   "metadata": {},
   "outputs": [
    {
     "name": "stdout",
     "output_type": "stream",
     "text": [
      "['a']\n"
     ]
    }
   ],
   "source": [
    "\n",
    "\n",
    "# Crear el DataFrame\n",
    "data = {'genres': [np.array(['a', 'b']), np.array(['a', 'b']), np.array([])],\n",
    "        'specs': [np.array(['a', 'b']), None, np.array(['a', 'b'])]}\n",
    "\n",
    "steam_games = pd.DataFrame(data)\n",
    "\n",
    "# Lista de géneros únicos\n",
    "unique_genres = ['a']\n",
    "\n",
    "# Crear una lista con elementos coincidentes en la columna 'specs' y 'unique_genres'\n",
    "matched_genres1 = list(set([tag for tags in steam_games['specs'] if isinstance(tags, np.ndarray) for tag in tags if tag in unique_genres]))\n",
    "\n",
    "print(matched_genres1)\n"
   ]
  },
  {
   "cell_type": "code",
   "execution_count": 28,
   "metadata": {},
   "outputs": [],
   "source": [
    "# Cargar el conjunto de datos user_reviews\n",
    "steam_games = pd.read_parquet('steam_games.parquet')\n",
    "\n",
    "# Eliminar las filas con valores nulos en 'app_name'\n",
    "steam_games = steam_games.dropna(subset=['app_name'])\n",
    "\n",
    "# Obtener todas las listas de géneros y unirlas en una sola lista\n",
    "all_genres = []\n",
    "for genres_list in steam_games['genres']:\n",
    "    # Verificar si la lista de géneros no es nula\n",
    "    if genres_list is not None:\n",
    "        # Verificar si la lista de géneros no está vacía\n",
    "        if len(genres_list) > 0:\n",
    "            # Extender la lista de todos los géneros con los géneros de la fila actual\n",
    "            all_genres.extend(genres_list)\n",
    "\n",
    "# Eliminar duplicados y valores nulos de la lista resultante\n",
    "unique_genres = list(set(all_genres))\n",
    "\n",
    "# Reemplazar las instancias en la lista maestra\n",
    "unique_genres = [genre.replace('Animation &amp; Modeling', 'Animation & Modeling') for genre in unique_genres]\n",
    "unique_genres = [genre.replace('Design &amp; Illustration', 'Design & Illustration') for genre in unique_genres]\n",
    "\n",
    "# Define la función update_genres modificada\n",
    "def update_genres(row):\n",
    "    if (not isinstance(row['genres'], np.ndarray)) and (isinstance(row['tags'], np.ndarray)):\n",
    "        matched_genres = np.array([tag for tag in row['tags'] if tag in unique_genres])\n",
    "        if len(matched_genres) > 0:\n",
    "            return matched_genres\n",
    "        else:\n",
    "            return row['genres']\n",
    "    else:\n",
    "        return row['genres']\n",
    "\n",
    "# Aplica la función update_genres a cada fila del DataFrame steam_games\n",
    "steam_games['genres'] = steam_games.apply(update_genres, axis=1)\n",
    "\n",
    "# Define la función update_genres modificada\n",
    "def update_genres2(row):\n",
    "    if (not isinstance(row['genres'], np.ndarray)) and (isinstance(row['specs'], np.ndarray)):\n",
    "        matched_genres = np.array([tag for tag in row['specs'] if tag in unique_genres])\n",
    "        if len(matched_genres) > 0:\n",
    "            return matched_genres\n",
    "        else:\n",
    "            return row['genres']\n",
    "    else:\n",
    "        return row['genres']\n",
    "\n",
    "# Aplica la función update_genres a cada fila del DataFrame steam_games\n",
    "steam_games['genres'] = steam_games.apply(update_genres2, axis=1)\n",
    "\n"
   ]
  },
  {
   "cell_type": "code",
   "execution_count": 32,
   "metadata": {},
   "outputs": [
    {
     "name": "stderr",
     "output_type": "stream",
     "text": [
      "/Library/Frameworks/Python.framework/Versions/3.12/lib/python3.12/site-packages/sklearn/feature_extraction/text.py:525: UserWarning: The parameter 'token_pattern' will not be used since 'tokenizer' is not None'\n",
      "  warnings.warn(\n",
      "/Library/Frameworks/Python.framework/Versions/3.12/lib/python3.12/site-packages/sklearn/svm/_classes.py:32: FutureWarning: The default value of `dual` will change from `True` to `'auto'` in 1.5. Set the value of `dual` explicitly to suppress the warning.\n",
      "  warnings.warn(\n"
     ]
    },
    {
     "ename": "TypeError",
     "evalue": "MultiLabelBinarizer.inverse_transform() takes 2 positional arguments but 3 were given",
     "output_type": "error",
     "traceback": [
      "\u001b[0;31m---------------------------------------------------------------------------\u001b[0m",
      "\u001b[0;31mTypeError\u001b[0m                                 Traceback (most recent call last)",
      "Cell \u001b[0;32mIn[32], line 49\u001b[0m\n\u001b[1;32m     46\u001b[0m classes \u001b[38;5;241m=\u001b[39m mlb\u001b[38;5;241m.\u001b[39mclasses_\n\u001b[1;32m     48\u001b[0m \u001b[38;5;66;03m# Actualizar el DataFrame 'steam_games' con los géneros predichos\u001b[39;00m\n\u001b[0;32m---> 49\u001b[0m games_missing_genres\u001b[38;5;241m.\u001b[39mloc[games_missing_genres[\u001b[38;5;124m'\u001b[39m\u001b[38;5;124mgenres\u001b[39m\u001b[38;5;124m'\u001b[39m]\u001b[38;5;241m.\u001b[39misnull(), \u001b[38;5;124m'\u001b[39m\u001b[38;5;124mgenres\u001b[39m\u001b[38;5;124m'\u001b[39m] \u001b[38;5;241m=\u001b[39m \u001b[43mmlb\u001b[49m\u001b[38;5;241;43m.\u001b[39;49m\u001b[43minverse_transform\u001b[49m\u001b[43m(\u001b[49m\u001b[43mpredicted_genres\u001b[49m\u001b[43m,\u001b[49m\u001b[43m \u001b[49m\u001b[43mclasses\u001b[49m\u001b[43m)\u001b[49m\n\u001b[1;32m     52\u001b[0m \u001b[38;5;66;03m# Mostrar el DataFrame actualizado\u001b[39;00m\n\u001b[1;32m     53\u001b[0m \u001b[38;5;28mprint\u001b[39m(games_missing_genres)\n",
      "\u001b[0;31mTypeError\u001b[0m: MultiLabelBinarizer.inverse_transform() takes 2 positional arguments but 3 were given"
     ]
    }
   ],
   "source": [
    "import pandas as pd\n",
    "import numpy as np\n",
    "import spacy\n",
    "from sklearn.feature_extraction.text import TfidfVectorizer\n",
    "from sklearn.svm import LinearSVC\n",
    "from sklearn.pipeline import Pipeline\n",
    "from sklearn.preprocessing import MultiLabelBinarizer\n",
    "\n",
    "# Filtrar juegos con géneros definidos y juegos con géneros faltantes\n",
    "games_with_genres = steam_games.dropna(subset=['genres'])\n",
    "games_missing_genres = steam_games[steam_games['genres'].isnull()]\n",
    "\n",
    "# Convertir la lista de géneros en un formato binario para el entrenamiento del modelo\n",
    "mlb = MultiLabelBinarizer()\n",
    "y_train = mlb.fit_transform(games_with_genres['genres'])\n",
    "\n",
    "\n",
    "\n",
    "\n",
    "# Transformar y_train a un arreglo 1D\n",
    "y_train_1d = np.argmax(y_train, axis=1)\n",
    "\n",
    "\n",
    "\n",
    "\n",
    "# Cargar el modelo de lenguaje de spaCy\n",
    "nlp = spacy.load(\"en_core_web_sm\")\n",
    "\n",
    "# Tokenizar y procesar los títulos de los juegos\n",
    "def tokenize(text):\n",
    "    return [token.text for token in nlp(text)]\n",
    "\n",
    "# Entrenar un clasificador de texto\n",
    "text_classifier = Pipeline([\n",
    "    ('tfidf', TfidfVectorizer(tokenizer=tokenize)),\n",
    "    ('clf', LinearSVC()),\n",
    "])\n",
    "\n",
    "# Entrenar el clasificador con los juegos con géneros definidos\n",
    "text_classifier.fit(games_with_genres['app_name'], y_train_1d)\n",
    "\n",
    "# Predecir los géneros para los juegos con 'None' en la columna 'genres'\n",
    "predicted_genres = text_classifier.predict(games_missing_genres['app_name'])\n",
    "\n",
    "# Obtener las clases de MultiLabelBinarizer\n",
    "classes = mlb.classes_\n",
    "\n",
    "# Actualizar el DataFrame 'steam_games' con los géneros predichos\n",
    "games_missing_genres.loc[games_missing_genres['genres'].isnull(), 'genres'] = mlb.inverse_transform(predicted_genres, classes)\n",
    "\n",
    "\n",
    "# Mostrar el DataFrame actualizado\n",
    "print(games_missing_genres)\n"
   ]
  }
 ],
 "metadata": {
  "kernelspec": {
   "display_name": "Python 3",
   "language": "python",
   "name": "python3"
  },
  "language_info": {
   "codemirror_mode": {
    "name": "ipython",
    "version": 3
   },
   "file_extension": ".py",
   "mimetype": "text/x-python",
   "name": "python",
   "nbconvert_exporter": "python",
   "pygments_lexer": "ipython3",
   "version": "3.12.2"
  }
 },
 "nbformat": 4,
 "nbformat_minor": 2
}
