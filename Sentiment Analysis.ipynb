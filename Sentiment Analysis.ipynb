{
 "cells": [
  {
   "cell_type": "code",
   "execution_count": 3,
   "metadata": {},
   "outputs": [],
   "source": [
    "# cargando bibliotecas requeridas para realizar análisis de sentimiento\n",
    "\n",
    "import pyarrow as pa\n",
    "import numpy as np\n",
    "import pyarrow.parquet as pq\n",
    "import pandas as pd\n",
    "from textblob import TextBlob"
   ]
  },
  {
   "cell_type": "code",
   "execution_count": 4,
   "metadata": {},
   "outputs": [],
   "source": [
    "# leyendo archivo\n",
    "\n",
    "user_reviews = pq.read_table('user_reviews.parquet')"
   ]
  },
  {
   "cell_type": "code",
   "execution_count": 5,
   "metadata": {},
   "outputs": [
    {
     "name": "stdout",
     "output_type": "stream",
     "text": [
      "Primeras y ultimas filas de user_reviews:\n"
     ]
    },
    {
     "data": {
      "text/plain": [
       "pyarrow.Table\n",
       "user_id: string\n",
       "item_id: int64\n",
       "recommend: bool\n",
       "review: string\n",
       "__index_level_0__: int64\n",
       "----\n",
       "user_id: [[\"76561197970982479\",\"76561197970982479\",\"76561197970982479\",\"js41637\",\"js41637\",...,\"76561198312638244\",\"76561198312638244\",\"LydiaMorley\",\"LydiaMorley\",\"LydiaMorley\"]]\n",
       "item_id: [[1250,22200,43110,251610,227300,...,70,362890,273110,730,440]]\n",
       "recommend: [[true,true,true,true,true,...,true,true,true,true,true]]\n",
       "review: [[\"Simple yet with great replayability. In my opinion does \"zombie\" hordes and team work better than left 4 dead plus has a global leveling system. Alot of down to earth \"zombie\" splattering fun for the whole family. Amazed this sort of FPS is so rare.\",\"It's unique and worth a playthrough.\",\"Great atmosphere. The gunplay can be a bit chunky at times but at the end of the day this game is definitely worth it and I hope they do a sequel...so buy the game so I get a sequel!\",\"I know what you think when you see this title \"Barbie Dreamhouse Party\" but do not be intimidated by it's title, this is easily one of my GOTYs. You don't get any of that cliche game mechanics that all the latest games have, this is simply good core gameplay. Yes, you can't 360 noscope your friends, but what you can do is show them up with your bad ♥♥♥ dance moves and put them to shame as you show them what true fashion and color combinations are.I know this game says for kids but, this is easily for any age range and any age will have a blast playing this.8/8\",\"For a simple (it's actually not all that simple but it can be!) truck driving Simulator, it is quite a fun and relaxing game. Playing on simple (or easy?) its just the basic WASD keys for driving but (if you want) the game can be much harder and realistic with having to manually change gears, much harder turning, etc. And reversing in this game is a ♥♥♥♥♥, as I imagine it would be with an actual truck. Luckily, you don't have to reverse park it but you get extra points if you do cause it is bloody hard. But this is suprisingly a nice truck driving game and I had a bit of fun with it.\",...,\"a must have classic from steam definitely worth buying.\",\"this game is a perfect remake of the original half life. personally one of the best remakes i have played in a long time. there are a few changes in the remake but for the most part its almost the same as the original half life.the game still needs Xen to be completed but all the other chapters are ready for you to play and enjoy. i say buy this game if you loved the original half life. but avoid it if you can t wait for xen to be completed.\",\"had so much fun plaing this and collecting resources xD we won on my first try and killed final boss!\",\":D\",\"so much fun :D\"]]\n",
       "__index_level_0__: [[0,1,2,3,4,...,59300,59301,59302,59303,59304]]"
      ]
     },
     "execution_count": 5,
     "metadata": {},
     "output_type": "execute_result"
    }
   ],
   "source": [
    "# Mostrar las primeras filas de cada DataFrame\n",
    "print(\"Primeras y ultimas filas de user_reviews:\")\n",
    "user_reviews"
   ]
  },
  {
   "cell_type": "code",
   "execution_count": 6,
   "metadata": {},
   "outputs": [],
   "source": [
    "# crear una función a la que llamar para analizar cada reseña y clasificarla dentro de los parámetros dados\n",
    "\n",
    "def sentiment_analysis(text):\n",
    "    \n",
    "    analysis = TextBlob(str(text))\n",
    "    score = analysis.sentiment.polarity\n",
    "\n",
    "    if score > 0:\n",
    "        return 2  # Positive\n",
    "    elif score < 0:\n",
    "        return 0  # Negative\n",
    "    else:\n",
    "        return 1  # Neutral\n"
   ]
  },
  {
   "cell_type": "code",
   "execution_count": 7,
   "metadata": {},
   "outputs": [],
   "source": [
    "# Convirtiendo user_reviews en un dataframe de pandas\n",
    "\n",
    "user_reviews_pandas = user_reviews.to_pandas()"
   ]
  },
  {
   "cell_type": "code",
   "execution_count": 8,
   "metadata": {},
   "outputs": [],
   "source": [
    "# Aplicar la función de análisis de sentimiento a la columna \"review\" y crear la columna \"sentiment_analysis\"\n",
    "\n",
    "user_reviews_pandas['sentiment_analysis'] = np.where(user_reviews_pandas['review'].notna(), user_reviews_pandas['review'].apply(lambda x: sentiment_analysis(x)), 1)"
   ]
  },
  {
   "cell_type": "code",
   "execution_count": 9,
   "metadata": {},
   "outputs": [
    {
     "name": "stdout",
     "output_type": "stream",
     "text": [
      "Primeras y ultimas filas de user_reviews:\n"
     ]
    },
    {
     "data": {
      "text/html": [
       "<div>\n",
       "<style scoped>\n",
       "    .dataframe tbody tr th:only-of-type {\n",
       "        vertical-align: middle;\n",
       "    }\n",
       "\n",
       "    .dataframe tbody tr th {\n",
       "        vertical-align: top;\n",
       "    }\n",
       "\n",
       "    .dataframe thead th {\n",
       "        text-align: right;\n",
       "    }\n",
       "</style>\n",
       "<table border=\"1\" class=\"dataframe\">\n",
       "  <thead>\n",
       "    <tr style=\"text-align: right;\">\n",
       "      <th></th>\n",
       "      <th>user_id</th>\n",
       "      <th>item_id</th>\n",
       "      <th>recommend</th>\n",
       "      <th>review</th>\n",
       "      <th>sentiment_analysis</th>\n",
       "    </tr>\n",
       "  </thead>\n",
       "  <tbody>\n",
       "    <tr>\n",
       "      <th>0</th>\n",
       "      <td>76561197970982479</td>\n",
       "      <td>1250</td>\n",
       "      <td>True</td>\n",
       "      <td>Simple yet with great replayability. In my opi...</td>\n",
       "      <td>2</td>\n",
       "    </tr>\n",
       "    <tr>\n",
       "      <th>1</th>\n",
       "      <td>76561197970982479</td>\n",
       "      <td>22200</td>\n",
       "      <td>True</td>\n",
       "      <td>It's unique and worth a playthrough.</td>\n",
       "      <td>2</td>\n",
       "    </tr>\n",
       "    <tr>\n",
       "      <th>2</th>\n",
       "      <td>76561197970982479</td>\n",
       "      <td>43110</td>\n",
       "      <td>True</td>\n",
       "      <td>Great atmosphere. The gunplay can be a bit chu...</td>\n",
       "      <td>2</td>\n",
       "    </tr>\n",
       "    <tr>\n",
       "      <th>3</th>\n",
       "      <td>js41637</td>\n",
       "      <td>251610</td>\n",
       "      <td>True</td>\n",
       "      <td>I know what you think when you see this title ...</td>\n",
       "      <td>2</td>\n",
       "    </tr>\n",
       "    <tr>\n",
       "      <th>4</th>\n",
       "      <td>js41637</td>\n",
       "      <td>227300</td>\n",
       "      <td>True</td>\n",
       "      <td>For a simple (it's actually not all that simpl...</td>\n",
       "      <td>0</td>\n",
       "    </tr>\n",
       "    <tr>\n",
       "      <th>...</th>\n",
       "      <td>...</td>\n",
       "      <td>...</td>\n",
       "      <td>...</td>\n",
       "      <td>...</td>\n",
       "      <td>...</td>\n",
       "    </tr>\n",
       "    <tr>\n",
       "      <th>59300</th>\n",
       "      <td>76561198312638244</td>\n",
       "      <td>70</td>\n",
       "      <td>True</td>\n",
       "      <td>a must have classic from steam definitely wort...</td>\n",
       "      <td>2</td>\n",
       "    </tr>\n",
       "    <tr>\n",
       "      <th>59301</th>\n",
       "      <td>76561198312638244</td>\n",
       "      <td>362890</td>\n",
       "      <td>True</td>\n",
       "      <td>this game is a perfect remake of the original ...</td>\n",
       "      <td>2</td>\n",
       "    </tr>\n",
       "    <tr>\n",
       "      <th>59302</th>\n",
       "      <td>LydiaMorley</td>\n",
       "      <td>273110</td>\n",
       "      <td>True</td>\n",
       "      <td>had so much fun plaing this and collecting res...</td>\n",
       "      <td>2</td>\n",
       "    </tr>\n",
       "    <tr>\n",
       "      <th>59303</th>\n",
       "      <td>LydiaMorley</td>\n",
       "      <td>730</td>\n",
       "      <td>True</td>\n",
       "      <td>:D</td>\n",
       "      <td>2</td>\n",
       "    </tr>\n",
       "    <tr>\n",
       "      <th>59304</th>\n",
       "      <td>LydiaMorley</td>\n",
       "      <td>440</td>\n",
       "      <td>True</td>\n",
       "      <td>so much fun :D</td>\n",
       "      <td>2</td>\n",
       "    </tr>\n",
       "  </tbody>\n",
       "</table>\n",
       "<p>58431 rows × 5 columns</p>\n",
       "</div>"
      ],
      "text/plain": [
       "                 user_id  item_id  recommend  \\\n",
       "0      76561197970982479     1250       True   \n",
       "1      76561197970982479    22200       True   \n",
       "2      76561197970982479    43110       True   \n",
       "3                js41637   251610       True   \n",
       "4                js41637   227300       True   \n",
       "...                  ...      ...        ...   \n",
       "59300  76561198312638244       70       True   \n",
       "59301  76561198312638244   362890       True   \n",
       "59302        LydiaMorley   273110       True   \n",
       "59303        LydiaMorley      730       True   \n",
       "59304        LydiaMorley      440       True   \n",
       "\n",
       "                                                  review  sentiment_analysis  \n",
       "0      Simple yet with great replayability. In my opi...                   2  \n",
       "1                   It's unique and worth a playthrough.                   2  \n",
       "2      Great atmosphere. The gunplay can be a bit chu...                   2  \n",
       "3      I know what you think when you see this title ...                   2  \n",
       "4      For a simple (it's actually not all that simpl...                   0  \n",
       "...                                                  ...                 ...  \n",
       "59300  a must have classic from steam definitely wort...                   2  \n",
       "59301  this game is a perfect remake of the original ...                   2  \n",
       "59302  had so much fun plaing this and collecting res...                   2  \n",
       "59303                                                 :D                   2  \n",
       "59304                                     so much fun :D                   2  \n",
       "\n",
       "[58431 rows x 5 columns]"
      ]
     },
     "execution_count": 9,
     "metadata": {},
     "output_type": "execute_result"
    }
   ],
   "source": [
    "# Mostrar las primeras filas de cada DataFrame\n",
    "print(\"Primeras y ultimas filas de user_reviews:\")\n",
    "user_reviews_pandas"
   ]
  },
  {
   "cell_type": "code",
   "execution_count": 10,
   "metadata": {},
   "outputs": [
    {
     "name": "stdout",
     "output_type": "stream",
     "text": [
      "Ninguno de los valores en la columna 'review' son NaN.\n"
     ]
    }
   ],
   "source": [
    "# Verificar si hay algún valor no nulo en la columna 'review'\n",
    "hay_valores_no_nulos = user_reviews_pandas['review'].isnull().any()\n",
    "\n",
    "if hay_valores_no_nulos:\n",
    "    print(\"Hay al menos un valor nulo en la columna 'review'.\")\n",
    "else:\n",
    "    print(\"Ninguno de los valores en la columna 'review' son NaN.\")\n"
   ]
  },
  {
   "cell_type": "code",
   "execution_count": 11,
   "metadata": {},
   "outputs": [],
   "source": [
    "# eliminar la columna \"review\"\n",
    "\n",
    "user_reviews_pandas = user_reviews_pandas.drop('review', axis=1)"
   ]
  },
  {
   "cell_type": "code",
   "execution_count": 12,
   "metadata": {},
   "outputs": [],
   "source": [
    "user_reviews_pyarrow = pa.Table.from_pandas(user_reviews_pandas)\n",
    "pq.write_table(user_reviews_pyarrow, \"user_reviews.parquet\")\n",
    "\n",
    "\n"
   ]
  }
 ],
 "metadata": {
  "kernelspec": {
   "display_name": "Python 3",
   "language": "python",
   "name": "python3"
  },
  "language_info": {
   "codemirror_mode": {
    "name": "ipython",
    "version": 3
   },
   "file_extension": ".py",
   "mimetype": "text/x-python",
   "name": "python",
   "nbconvert_exporter": "python",
   "pygments_lexer": "ipython3",
   "version": "3.11.9"
  }
 },
 "nbformat": 4,
 "nbformat_minor": 2
}
