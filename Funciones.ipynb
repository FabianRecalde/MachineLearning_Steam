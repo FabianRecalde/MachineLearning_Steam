{
 "cells": [
  {
   "cell_type": "code",
   "execution_count": 5,
   "metadata": {},
   "outputs": [],
   "source": [
    "import pandas as pd\n",
    "import pyarrow.parquet as pq\n",
    "from useful_tools import tipo_de_datos"
   ]
  },
  {
   "cell_type": "code",
   "execution_count": 24,
   "metadata": {},
   "outputs": [],
   "source": [
    "# Cargar las tablas desde los archivos parquet\n",
    "steam_games = pq.read_table(\"steam_games.parquet\").to_pandas()\n",
    "users_items = pq.read_table(\"users_items.parquet\").to_pandas()\n",
    "user_reviews = pq.read_table(\"user_reviews.parquet\").to_pandas()\n",
    "max_playtime_per_genre = pq.read_table(\"max_playtime_per_genre.parquet\").to_pandas()\n",
    "user_total_playtime_general = pq.read_table(\"user_total_playtime_general.parquet\").to_pandas()"
   ]
  },
  {
   "cell_type": "code",
   "execution_count": 19,
   "metadata": {},
   "outputs": [],
   "source": [
    "def PlayTimeGenre(genre):\n",
    "    \n",
    "    # Filtrar los juegos que correspondan al género proporcionado\n",
    "    genre_data = max_playtime_per_genre.dropna(subset=['genres'])\n",
    "    genre_data = genre_data[genre_data['genres'].apply(lambda x: genre in x)]\n",
    "\n",
    "    # Encontrar el año con la mayor cantidad de horas jugadas\n",
    "    max_year = genre_data.loc[genre_data['playtime_forever'].idxmax()]['year']\n",
    "\n",
    "    return f\"El año con más horas jugadas para el género {genre} es: {max_year}\""
   ]
  },
  {
   "cell_type": "code",
   "execution_count": 22,
   "metadata": {},
   "outputs": [
    {
     "data": {
      "text/plain": [
       "'El año con más horas jugadas para el género Web Publishing es: 2012'"
      ]
     },
     "execution_count": 22,
     "metadata": {},
     "output_type": "execute_result"
    }
   ],
   "source": [
    "PlayTimeGenre('Web Publishing')"
   ]
  },
  {
   "cell_type": "code",
   "execution_count": 25,
   "metadata": {},
   "outputs": [],
   "source": [
    "def UserForGenre(genre):\n",
    "\n",
    "    # Filtrar los juegos que correspondan al género proporcionado\n",
    "    genre_data = user_total_playtime_general[user_total_playtime_general['genres'].apply(lambda x: genre in x)]\n",
    "        \n",
    "    # Agrupar por usuario y calcular la suma de las horas jugadas para cada usuario\n",
    "    user_total_playtime = genre_data.groupby('user_id')['playtime_forever'].sum()\n",
    "    user_total_playtime = user_total_playtime.reset_index()\n",
    "    \n",
    "    # Obtener el usuario con más horas jugadas\n",
    "    sorted_users = user_total_playtime.sort_values(by='playtime_forever', ascending=False)\n",
    "    sorted_users = sorted_users.reset_index()\n",
    "    sorted_users.drop('index', axis=1, inplace=True)\n",
    "    \n",
    "    # Obtener el usuario con más horas jugadas\n",
    "    max_user = sorted_users['user_id'].iloc[0]\n",
    "    \n",
    "    # Filtrar los datos solo para el usuario con la máxima cantidad de horas jugadas\n",
    "    max_user_data = genre_data[genre_data['user_id'] == max_user]\n",
    "\n",
    "    # Agrupar por año y calcular la suma de las horas jugadas para ese usuario\n",
    "    year_playtime = max_user_data.groupby('year')['playtime_forever'].sum().reset_index()\n",
    "    \n",
    "    # Convertir a lista de listas (año, horas acumuladas)\n",
    "    year_playtime_list = year_playtime.values.tolist()\n",
    "\n",
    "    return max_user, year_playtime_list\n"
   ]
  },
  {
   "cell_type": "code",
   "execution_count": 26,
   "metadata": {},
   "outputs": [
    {
     "data": {
      "text/plain": [
       "('Sp3ctre',\n",
       " [['1995', 0.06027777777777778],\n",
       "  ['1999', 0.012222222222222223],\n",
       "  ['2000', 19.623333333333335],\n",
       "  ['2001', 0.003611111111111111],\n",
       "  ['2002', 0.0661111111111111],\n",
       "  ['2003', 2.131388888888889],\n",
       "  ['2004', 35.39194444444445],\n",
       "  ['2005', 5.9275],\n",
       "  ['2006', 0.24888888888888888],\n",
       "  ['2007', 31.32888888888889],\n",
       "  ['2008', 0.06222222222222222],\n",
       "  ['2009', 30.090555555555554],\n",
       "  ['2010', 21.689722222222223],\n",
       "  ['2011', 43.026666666666664],\n",
       "  ['2012', 128.58277777777778],\n",
       "  ['2013', 33.46138888888889],\n",
       "  ['2014', 36.30305555555556],\n",
       "  ['2015', 86.80888888888889],\n",
       "  ['2016', 8.215555555555556],\n",
       "  ['2017', 12.035277777777779]])"
      ]
     },
     "execution_count": 26,
     "metadata": {},
     "output_type": "execute_result"
    }
   ],
   "source": [
    "UserForGenre(\"Action\")"
   ]
  },
  {
   "cell_type": "code",
   "execution_count": 11,
   "metadata": {},
   "outputs": [],
   "source": [
    "def UsersRecommend(year):\n",
    "    # Realizar un left merge entre user_reviews y steam_games\n",
    "    merged_data = pd.merge(user_reviews[['item_id', 'recommend', 'sentiment_analysis']],\n",
    "                           steam_games[['id', 'app_name', 'release_date']],\n",
    "                           left_on='item_id',\n",
    "                           right_on='id',\n",
    "                           how='left')\n",
    "    # Eliminando columnas innecesarias y datos nulos\n",
    "    merged_data.drop(['id', 'item_id'], axis=1, inplace=True)\n",
    "    merged_data = merged_data.dropna(subset=['release_date'])\n",
    "    \n",
    "    # Filtrar los juegos del año especificado\n",
    "    # Extraer el año de la columna \"release_date\"\n",
    "    merged_data['year'] = merged_data['release_date'].str.extract(r'(\\d{4})|(\\w{3}\\s(\\d{4}))')[0].fillna(merged_data['release_date'].str.extract(r'(\\d{4})|(\\w{3}\\s(\\d{4}))')[2])\n",
    "    merged_data = merged_data[merged_data['year'] == str(year)]\n",
    "\n",
    "    # Filtrar los juegos recomendados con sentiment_analysis de 1 o 2\n",
    "    recommended_games = merged_data[(merged_data['recommend'] == True) & \n",
    "                                    (merged_data['sentiment_analysis'].isin([1, 2]))]\n",
    "    \n",
    "    # Agrupar por app_name y sumar los valores de sentiment_analysis\n",
    "    grouped = recommended_games.groupby('app_name')['sentiment_analysis'].sum().reset_index()\n",
    "    \n",
    "    # Ordenar los juegos basados en la suma de sentiment_analysis en orden descendente\n",
    "    recommended_games = grouped.sort_values(by='sentiment_analysis', ascending=False).reset_index().head(3)\n",
    "    \n",
    "    # Obtener los nombres de los juegos recomendados\n",
    "    recommended_games_names = recommended_games['app_name'].tolist()\n",
    "    \n",
    "    # Formatear el resultado\n",
    "    result = [{\"Puesto {}\".format(i + 1): game} for i, game in enumerate(recommended_games_names)]\n",
    "    \n",
    "    return result"
   ]
  },
  {
   "cell_type": "code",
   "execution_count": 12,
   "metadata": {},
   "outputs": [
    {
     "data": {
      "text/plain": [
       "[{'Puesto 1': \"Sid Meier's Civilization® V\"},\n",
       " {'Puesto 2': 'Mount & Blade: Warband'},\n",
       " {'Puesto 3': 'Fallout: New Vegas'}]"
      ]
     },
     "execution_count": 12,
     "metadata": {},
     "output_type": "execute_result"
    }
   ],
   "source": [
    "UsersRecommend(2010)"
   ]
  },
  {
   "cell_type": "code",
   "execution_count": 13,
   "metadata": {},
   "outputs": [],
   "source": [
    "def UsersNotRecommend(year):\n",
    "    # Realizar un left merge entre user_reviews y steam_games\n",
    "    merged_data = pd.merge(user_reviews[['item_id', 'recommend', 'sentiment_analysis']],\n",
    "                           steam_games[['id', 'app_name', 'release_date']],\n",
    "                           left_on='item_id',\n",
    "                           right_on='id',\n",
    "                           how='left')\n",
    "    # Eliminando columnas innecesarias y datos nulos\n",
    "    merged_data.drop(['id', 'item_id'], axis=1, inplace=True)\n",
    "    merged_data = merged_data.dropna(subset=['release_date'])\n",
    "    \n",
    "    # Filtrar los juegos del año especificado\n",
    "    # Extraer el año de la columna \"release_date\"\n",
    "    merged_data['year'] = merged_data['release_date'].str.extract(r'(\\d{4})|(\\w{3}\\s(\\d{4}))')[0].fillna(merged_data['release_date'].str.extract(r'(\\d{4})|(\\w{3}\\s(\\d{4}))')[2])\n",
    "    merged_data = merged_data[merged_data['year'] == str(year)]\n",
    "\n",
    "    # Filtrar los juegos recomendados con sentiment_analysis de 0\n",
    "    not_recommended_games = merged_data[(merged_data['recommend'] == False) & \n",
    "                                    (merged_data['sentiment_analysis'].isin([0]))]\n",
    "    \n",
    "    # Agrupar por app_name y sumar los valores de sentiment_analysis\n",
    "    grouped = not_recommended_games.groupby('app_name').agg(\n",
    "        sentiment_analysis=('sentiment_analysis', 'sum'),\n",
    "        count=('sentiment_analysis', 'count')\n",
    "    ).reset_index()\n",
    "    \n",
    "    # Ordenar los juegos basados en la suma de sentiment_analysis en orden descendente\n",
    "    not_recommended_games = grouped.sort_values(by='count', ascending=False).reset_index().head(3)\n",
    "\n",
    "    # Obtener los nombres de los juegos recomendados\n",
    "    not_recommended_games = not_recommended_games['app_name'].tolist()\n",
    "    \n",
    "    # Formatear el resultado\n",
    "    result = [{\"Puesto {}\".format(i + 1): game} for i, game in enumerate(not_recommended_games)]\n",
    "    \n",
    "    return result"
   ]
  },
  {
   "cell_type": "code",
   "execution_count": 14,
   "metadata": {},
   "outputs": [
    {
     "data": {
      "text/plain": [
       "[{'Puesto 1': \"Garry's Mod\"},\n",
       " {'Puesto 2': 'Toribash'},\n",
       " {'Puesto 3': '911: First Responders®'}]"
      ]
     },
     "execution_count": 14,
     "metadata": {},
     "output_type": "execute_result"
    }
   ],
   "source": [
    "UsersNotRecommend(2006)"
   ]
  },
  {
   "cell_type": "code",
   "execution_count": 15,
   "metadata": {},
   "outputs": [],
   "source": [
    "def sentiment_analysis(year: str):\n",
    "    # Agregar la columna \"release_date\" al dataframe \"user_reviews\" mediante un merge\n",
    "    reviews_with_release = pd.merge(user_reviews, steam_games[['id', 'release_date']], \n",
    "                                    left_on='item_id', right_on='id', how='left')\n",
    "    \n",
    "    # Filtrar las reseñas del año especificado\n",
    "    reviews_with_release['year'] = reviews_with_release['release_date'].str.extract(r'(\\d{4})|(\\w{3}\\s(\\d{4}))')[0].fillna(reviews_with_release['release_date'].str.extract(r'(\\d{4})|(\\w{3}\\s(\\d{4}))')[2])\n",
    "    reviews_with_release = reviews_with_release[reviews_with_release['year'] == str(year)]\n",
    "    \n",
    "    # Contar las reseñas por categoría de sentimiento\n",
    "    sentiment_counts = reviews_with_release['sentiment_analysis'].value_counts()\n",
    "    \n",
    "    # Convertir los valores de numpy.int32 a int\n",
    "    sentiment_counts = sentiment_counts.astype(int)\n",
    "    \n",
    "    # Crear un diccionario con los conteos de cada categoría de sentimiento\n",
    "    result = {\n",
    "        'Negative': int(sentiment_counts.get(0, 0)),\n",
    "        'Neutral': int(sentiment_counts.get(1, 0)),\n",
    "        'Positive': int(sentiment_counts.get(2, 0))\n",
    "    }\n",
    "\n",
    "    return result\n"
   ]
  },
  {
   "cell_type": "code",
   "execution_count": 16,
   "metadata": {},
   "outputs": [
    {
     "data": {
      "text/plain": [
       "{'Negative': 1541, 'Neutral': 1398, 'Positive': 3680}"
      ]
     },
     "execution_count": 16,
     "metadata": {},
     "output_type": "execute_result"
    }
   ],
   "source": [
    "sentiment_analysis(2015)"
   ]
  }
 ],
 "metadata": {
  "kernelspec": {
   "display_name": "Python 3",
   "language": "python",
   "name": "python3"
  },
  "language_info": {
   "codemirror_mode": {
    "name": "ipython",
    "version": 3
   },
   "file_extension": ".py",
   "mimetype": "text/x-python",
   "name": "python",
   "nbconvert_exporter": "python",
   "pygments_lexer": "ipython3",
   "version": "3.11.9"
  }
 },
 "nbformat": 4,
 "nbformat_minor": 2
}
