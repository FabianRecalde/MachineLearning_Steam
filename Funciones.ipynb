{
 "cells": [
  {
   "cell_type": "code",
   "execution_count": 4,
   "metadata": {},
   "outputs": [],
   "source": [
    "import pandas as pd\n",
    "import pyarrow.parquet as pq\n",
    "from useful_tools import tipo_de_datos"
   ]
  },
  {
   "cell_type": "code",
   "execution_count": 5,
   "metadata": {},
   "outputs": [],
   "source": [
    "# Cargar las tablas desde los archivos parquet\n",
    "max_playtime_per_genre = pq.read_table(\"max_playtime_per_genre.parquet\").to_pandas()\n",
    "user_total_playtime_general = pq.read_table(\"user_total_playtime_general.parquet\").to_pandas()\n",
    "top_3_games_per_year = pq.read_table(\"top_3_games_per_year.parquet\").to_pandas()\n",
    "bottom_3_games_per_year = pq.read_table(\"bottom_3_games_per_year.parquet\").to_pandas()\n",
    "sentiment_counts_sorted = pq.read_table(\"sentiment_counts_sorted.parquet\").to_pandas()"
   ]
  },
  {
   "cell_type": "code",
   "execution_count": 6,
   "metadata": {},
   "outputs": [],
   "source": [
    "def PlayTimeGenre(genre):\n",
    "    \n",
    "    # Filtrar los juegos que correspondan al género proporcionado\n",
    "    genre_data = max_playtime_per_genre.dropna(subset=['genres'])\n",
    "    genre_data = genre_data[genre_data['genres'].apply(lambda x: genre in x)]\n",
    "\n",
    "    # Encontrar el año con la mayor cantidad de horas jugadas\n",
    "    max_year = genre_data.loc[genre_data['playtime_forever'].idxmax()]['year']\n",
    "\n",
    "    return f\"El año con más horas jugadas para el género {genre} es: {max_year}\""
   ]
  },
  {
   "cell_type": "code",
   "execution_count": 7,
   "metadata": {},
   "outputs": [
    {
     "data": {
      "text/plain": [
       "'El año con más horas jugadas para el género Web Publishing es: 2012'"
      ]
     },
     "execution_count": 7,
     "metadata": {},
     "output_type": "execute_result"
    }
   ],
   "source": [
    "PlayTimeGenre('Web Publishing')"
   ]
  },
  {
   "cell_type": "code",
   "execution_count": 8,
   "metadata": {},
   "outputs": [],
   "source": [
    "def UserForGenre(genre):\n",
    "\n",
    "    # Filtrar los juegos que correspondan al género proporcionado\n",
    "    genre_data = user_total_playtime_general[user_total_playtime_general['genres'].apply(lambda x: genre in x)]\n",
    "        \n",
    "    # Agrupar por usuario y calcular la suma de las horas jugadas para cada usuario\n",
    "    user_total_playtime = genre_data.groupby('user_id')['playtime_forever'].sum()\n",
    "    user_total_playtime = user_total_playtime.reset_index()\n",
    "    \n",
    "    # Obtener el usuario con más horas jugadas\n",
    "    sorted_users = user_total_playtime.sort_values(by='playtime_forever', ascending=False)\n",
    "    sorted_users = sorted_users.reset_index()\n",
    "    sorted_users.drop('index', axis=1, inplace=True)\n",
    "    \n",
    "    # Obtener el usuario con más horas jugadas\n",
    "    max_user = sorted_users['user_id'].iloc[0]\n",
    "    \n",
    "    # Filtrar los datos solo para el usuario con la máxima cantidad de horas jugadas\n",
    "    max_user_data = genre_data[genre_data['user_id'] == max_user]\n",
    "\n",
    "    # Agrupar por año y calcular la suma de las horas jugadas para ese usuario\n",
    "    year_playtime = max_user_data.groupby('year')['playtime_forever'].sum().reset_index()\n",
    "    \n",
    "    # Convertir a lista de listas (año, horas acumuladas)\n",
    "    year_playtime_list = year_playtime.values.tolist()\n",
    "\n",
    "    return max_user, year_playtime_list\n"
   ]
  },
  {
   "cell_type": "code",
   "execution_count": 9,
   "metadata": {},
   "outputs": [
    {
     "data": {
      "text/plain": [
       "('REBAS_AS_F-T',\n",
       " [['2003', 0.5175],\n",
       "  ['2005', 0.30916666666666665],\n",
       "  ['2007', 0.04472222222222222],\n",
       "  ['2008', 0.6813888888888888],\n",
       "  ['2009', 7.473333333333334],\n",
       "  ['2010', 5.373888888888889],\n",
       "  ['2011', 16.75138888888889],\n",
       "  ['2012', 43.522222222222226],\n",
       "  ['2013', 70.36444444444444],\n",
       "  ['2014', 53.04416666666667],\n",
       "  ['2015', 183.20833333333334],\n",
       "  ['2016', 219.52583333333334],\n",
       "  ['2017', 9.151944444444444]])"
      ]
     },
     "execution_count": 9,
     "metadata": {},
     "output_type": "execute_result"
    }
   ],
   "source": [
    "UserForGenre(\"Adventure\")"
   ]
  },
  {
   "cell_type": "code",
   "execution_count": 10,
   "metadata": {},
   "outputs": [],
   "source": [
    "def UsersRecommend(year):\n",
    "    # Filtrar los juegos del año especificado\n",
    "    top_3 = top_3_games_per_year[top_3_games_per_year['year'] == str(year)]\n",
    "    \n",
    "    # Ordenar los juegos basados en la suma de sentiment_analysis en orden descendente\n",
    "    recommended_games = top_3.sort_values(by='sentiment_analysis', ascending=False).reset_index().head(3)\n",
    "    \n",
    "    # Obtener los nombres de los juegos recomendados\n",
    "    recommended_games_names = recommended_games['app_name'].tolist()\n",
    "    \n",
    "    # Formatear el resultado\n",
    "    result = [{\"Puesto {}\".format(i + 1): game} for i, game in enumerate(recommended_games_names)]\n",
    "    \n",
    "    return result"
   ]
  },
  {
   "cell_type": "code",
   "execution_count": 11,
   "metadata": {},
   "outputs": [
    {
     "data": {
      "text/plain": [
       "[{'Puesto 1': \"Sid Meier's Civilization® V\"},\n",
       " {'Puesto 2': 'Mount & Blade: Warband'},\n",
       " {'Puesto 3': 'Fallout: New Vegas'}]"
      ]
     },
     "execution_count": 11,
     "metadata": {},
     "output_type": "execute_result"
    }
   ],
   "source": [
    "UsersRecommend(2010)"
   ]
  },
  {
   "cell_type": "code",
   "execution_count": 12,
   "metadata": {},
   "outputs": [],
   "source": [
    "def UsersNotRecommend(year):\n",
    "        \n",
    "    # Filtrar los juegos del año especificado\n",
    "    bottom_3 = bottom_3_games_per_year[bottom_3_games_per_year['year'] == str(year)]\n",
    "    \n",
    "    # Ordenar los juegos basados en la suma de count en orden descendente\n",
    "    not_recommended_games = bottom_3.sort_values(by='count', ascending=False).reset_index().head(3)\n",
    "\n",
    "    # Obtener los nombres de los juegos recomendados\n",
    "    not_recommended_games = not_recommended_games['app_name'].tolist()\n",
    "    \n",
    "    # Formatear el resultado\n",
    "    result = [{\"Puesto {}\".format(i + 1): game} for i, game in enumerate(not_recommended_games)]\n",
    "    \n",
    "    return result"
   ]
  },
  {
   "cell_type": "code",
   "execution_count": 13,
   "metadata": {},
   "outputs": [
    {
     "data": {
      "text/plain": [
       "[{'Puesto 1': 'EVE Online'},\n",
       " {'Puesto 2': 'Enclave'},\n",
       " {'Puesto 3': 'STAR WARS™ - Knights of the Old Republic™'}]"
      ]
     },
     "execution_count": 13,
     "metadata": {},
     "output_type": "execute_result"
    }
   ],
   "source": [
    "UsersNotRecommend(2003)"
   ]
  },
  {
   "cell_type": "code",
   "execution_count": 18,
   "metadata": {},
   "outputs": [],
   "source": [
    "def sentiment_analysis(year: str):\n",
    "    # Filtrar las reseñas del año especificado\n",
    "    reviews = sentiment_counts_sorted[sentiment_counts_sorted['year'] == (year)]\n",
    "    \n",
    "    # Crear un diccionario con valores predeterminados\n",
    "    sentiment_dict = {'Negative': 0, 'Neutral': 0, 'Positive': 0}\n",
    "\n",
    "    # Actualizar los valores del diccionario con los valores del DataFrame\n",
    "    for _, row in reviews.iterrows():\n",
    "        sentiment = row['sentiment_analysis']\n",
    "        if sentiment == 0:\n",
    "            sentiment_dict['Negative'] = row['count']\n",
    "        elif sentiment == 1:\n",
    "            sentiment_dict['Neutral'] = row['count']\n",
    "        elif sentiment == 2:\n",
    "            sentiment_dict['Positive'] = row['count']\n",
    "\n",
    "    return sentiment_dict"
   ]
  },
  {
   "cell_type": "code",
   "execution_count": 19,
   "metadata": {},
   "outputs": [
    {
     "data": {
      "text/plain": [
       "{'Negative': 1541, 'Neutral': 1398, 'Positive': 3680}"
      ]
     },
     "execution_count": 19,
     "metadata": {},
     "output_type": "execute_result"
    }
   ],
   "source": [
    "sentiment_analysis(2015)"
   ]
  }
 ],
 "metadata": {
  "kernelspec": {
   "display_name": "Python 3",
   "language": "python",
   "name": "python3"
  },
  "language_info": {
   "codemirror_mode": {
    "name": "ipython",
    "version": 3
   },
   "file_extension": ".py",
   "mimetype": "text/x-python",
   "name": "python",
   "nbconvert_exporter": "python",
   "pygments_lexer": "ipython3",
   "version": "3.11.9"
  }
 },
 "nbformat": 4,
 "nbformat_minor": 2
}
